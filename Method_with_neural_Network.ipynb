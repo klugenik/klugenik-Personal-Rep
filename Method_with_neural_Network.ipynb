{
  "nbformat": 4,
  "nbformat_minor": 0,
  "metadata": {
    "colab": {
      "provenance": [],
      "toc_visible": true,
      "authorship_tag": "ABX9TyOmC6rA8lhMvZn7wBicwJM0",
      "include_colab_link": true
    },
    "kernelspec": {
      "name": "python3",
      "display_name": "Python 3"
    },
    "language_info": {
      "name": "python"
    }
  },
  "cells": [
    {
      "cell_type": "markdown",
      "metadata": {
        "id": "view-in-github",
        "colab_type": "text"
      },
      "source": [
        "<a href=\"https://colab.research.google.com/github/klugenik/klugenik-Personal-Rep/blob/main/Method_with_neural_Network.ipynb\" target=\"_parent\"><img src=\"https://colab.research.google.com/assets/colab-badge.svg\" alt=\"Open In Colab\"/></a>"
      ]
    },
    {
      "cell_type": "markdown",
      "source": [
        "# Install packages"
      ],
      "metadata": {
        "id": "gAdYoQvCs9rt"
      }
    },
    {
      "cell_type": "code",
      "source": [
        "from keras.models import Sequential\n",
        "from keras.layers import Dense, Conv2D, Flatten\n",
        "from keras.utils import to_categorical\n",
        "from sklearn.model_selection import train_test_split\n",
        "import cv2\n",
        "import os\n",
        "import numpy as np\n",
        "import pandas as pd"
      ],
      "metadata": {
        "id": "0xvG0FBltBx1"
      },
      "execution_count": null,
      "outputs": []
    },
    {
      "cell_type": "markdown",
      "source": [
        "# Load data"
      ],
      "metadata": {
        "id": "E2T1Cd48tECg"
      }
    },
    {
      "cell_type": "code",
      "source": [
        "# Load labels\n",
        "labels = pd.read_csv('labels.csv')"
      ],
      "metadata": {
        "id": "NNfr-frFtLBh"
      },
      "execution_count": null,
      "outputs": []
    },
    {
      "cell_type": "code",
      "source": [
        "# Load images\n",
        "X = []\n",
        "y = []\n",
        "for _, row in labels.iterrows():\n",
        "    img = cv2.imread(row['filename'])\n",
        "    X.append(img)\n",
        "    y.append(row['label'])"
      ],
      "metadata": {
        "id": "SZlbSULLvNN7"
      },
      "execution_count": null,
      "outputs": []
    },
    {
      "cell_type": "markdown",
      "source": [
        "# Convert data"
      ],
      "metadata": {
        "id": "8P7Ab0RDtZlW"
      }
    },
    {
      "cell_type": "code",
      "source": [
        "X = np.array(X) / 255\n",
        "y = np.array(y)"
      ],
      "metadata": {
        "id": "uBZlBFf0tcY-"
      },
      "execution_count": null,
      "outputs": []
    },
    {
      "cell_type": "markdown",
      "source": [
        "# Reshape data"
      ],
      "metadata": {
        "id": "SCAjq-Q9tT8M"
      }
    },
    {
      "cell_type": "code",
      "source": [
        "X = X.reshape(-1,28,28,1)"
      ],
      "metadata": {
        "id": "dHzB9uYttjAh"
      },
      "execution_count": null,
      "outputs": []
    },
    {
      "cell_type": "markdown",
      "source": [
        "# Training"
      ],
      "metadata": {
        "id": "Q7mKnd5ItvUs"
      }
    },
    {
      "cell_type": "code",
      "source": [
        "# One-hot encode target column\n",
        "y = to_categorical(y)"
      ],
      "metadata": {
        "id": "8lLaXM-7tyd-"
      },
      "execution_count": null,
      "outputs": []
    },
    {
      "cell_type": "code",
      "source": [
        "# Training-Test-Split\n",
        "X_train, X_test, y_train, y_test = train_test_split(X, y, test_size=0.2)"
      ],
      "metadata": {
        "id": "jyi9bQYCt2Ck"
      },
      "execution_count": null,
      "outputs": []
    },
    {
      "cell_type": "code",
      "source": [
        "# Create the model\n",
        "model = Sequential()"
      ],
      "metadata": {
        "id": "1j1qMi6Nt992"
      },
      "execution_count": null,
      "outputs": []
    },
    {
      "cell_type": "code",
      "source": [
        "# Define model layers\n",
        "model.add(Conv2D(64, kernel_size=3, activation='relu', input_shape=(28,28,1)))\n",
        "model.add(Conv2D(32, kernel_size=3, activation='relu'))\n",
        "model.add(Flatten())\n",
        "model.add(Dense(10, activation='softmax'))"
      ],
      "metadata": {
        "id": "Y1oNCMaluAE4"
      },
      "execution_count": null,
      "outputs": []
    },
    {
      "cell_type": "code",
      "source": [
        "# Compile model\n",
        "model.compile(optimizer='adam', loss='categorical_crossentropy', metrics=['accuracy'])"
      ],
      "metadata": {
        "id": "vX0b3T8kuSXJ"
      },
      "execution_count": null,
      "outputs": []
    },
    {
      "cell_type": "code",
      "source": [
        "# Train model\n",
        "model.fit(X_train, y_train, validation_data=(X_test, y_test), epochs=3)"
      ],
      "metadata": {
        "id": "agDD-BbouJ8z"
      },
      "execution_count": null,
      "outputs": []
    }
  ]
}